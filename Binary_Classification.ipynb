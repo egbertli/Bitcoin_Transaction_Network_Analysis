{
 "cells": [
  {
   "cell_type": "code",
   "execution_count": null,
   "metadata": {
    "collapsed": true
   },
   "outputs": [],
   "source": [
    "\n",
    "# @hidden_cell\n",
    "credentials_1 = {\n",
    "  'auth_url':'https://identity.open.softlayer.com',\n",
    "  'project':'object_storage_b6d2dc43_04df_42d5_bf42_5b6ca8af67ff',\n",
    "  'project_id':'b27f8cf040e5488eb7ceb30211ba0896',\n",
    "  'region':'dallas',\n",
    "  'user_id':'ed411c6b7daa4284a2208c6d34cda037',\n",
    "  'domain_id':'9d54dfb7f46d48d8930e2e61e1e7ddab',\n",
    "  'domain_name':'1257643',\n",
    "  'username':'member_6e6fb2aeb2891f1e6518800b3facd7562d18ac79',\n",
    "  'password':\"\"\"Fl^J{l2v*M0cXWqv\"\"\",\n",
    "  'container':'BITCOINTRANSACTIONNETWORKANALYSIS',\n",
    "  'tenantId':'undefined',\n",
    "  'filename':'BTC_merged.csv'\n",
    "}\n"
   ]
  },
  {
   "cell_type": "code",
   "execution_count": null,
   "metadata": {
    "collapsed": true
   },
   "outputs": [],
   "source": [
    "def put_file(credentials, local_file_name):  \n",
    "    \"\"\"This functions returns a StringIO object containing\n",
    "    the file content from Bluemix Object Storage V3.\"\"\"\n",
    "    f = open(local_file_name,'r')\n",
    "    my_data = f.read()\n",
    "    url1 = ''.join(['https://identity.open.softlayer.com', '/v3/auth/tokens'])\n",
    "    data = {'auth': {'identity': {'methods': ['password'],\n",
    "            'password': {'user': {'name': credentials['username'],'domain': {'id': credentials['domain_id']},\n",
    "            'password': credentials['password']}}}}}\n",
    "    headers1 = {'Content-Type': 'application/json'}\n",
    "    resp1 = requests.post(url=url1, data=json.dumps(data), headers=headers1)\n",
    "    resp1_body = resp1.json()\n",
    "    for e1 in resp1_body['token']['catalog']:\n",
    "        if(e1['type']=='object-store'):\n",
    "            for e2 in e1['endpoints']:\n",
    "                        if(e2['interface']=='public'and e2['region']=='dallas'):\n",
    "                            url2 = ''.join([e2['url'],'/', credentials['container'], '/', local_file_name])\n",
    "    s_subject_token = resp1.headers['x-subject-token']\n",
    "    headers2 = {'X-Auth-Token': s_subject_token, 'accept': 'application/json'}\n",
    "    resp2 = requests.put(url=url2, headers=headers2, data = my_data )\n",
    "    print (resp2)\n",
    "    "
   ]
  },
  {
   "cell_type": "code",
   "execution_count": null,
   "metadata": {
    "collapsed": false
   },
   "outputs": [],
   "source": [
    "\n",
    "from io import StringIO\n",
    "import requests\n",
    "import json\n",
    "import pandas as pd\n",
    "import numpy as np \n",
    "\n",
    "# @hidden_cell\n",
    "# This function accesses a file in your Object Storage. The definition contains your credentials.\n",
    "# You might want to remove those credentials before you share your notebook.\n",
    "def get_object_storage_file_with_credentials_b6d2dc4304df42d5bf425b6ca8af67ff(container, filename):\n",
    "    \"\"\"This functions returns a StringIO object containing\n",
    "    the file content from Bluemix Object Storage.\"\"\"\n",
    "\n",
    "    url1 = ''.join(['https://identity.open.softlayer.com', '/v3/auth/tokens'])\n",
    "    data = {'auth': {'identity': {'methods': ['password'],\n",
    "            'password': {'user': {'name': 'member_6e6fb2aeb2891f1e6518800b3facd7562d18ac79','domain': {'id': '9d54dfb7f46d48d8930e2e61e1e7ddab'},\n",
    "            'password': 'Fl^J{l2v*M0cXWqv'}}}}}\n",
    "    headers1 = {'Content-Type': 'application/json'}\n",
    "    resp1 = requests.post(url=url1, data=json.dumps(data), headers=headers1)\n",
    "    resp1_body = resp1.json()\n",
    "    for e1 in resp1_body['token']['catalog']:\n",
    "        if(e1['type']=='object-store'):\n",
    "            for e2 in e1['endpoints']:\n",
    "                        if(e2['interface']=='public'and e2['region']=='dallas'):\n",
    "                            url2 = ''.join([e2['url'],'/', container, '/', filename])\n",
    "    s_subject_token = resp1.headers['x-subject-token']\n",
    "    headers2 = {'X-Auth-Token': s_subject_token, 'accept': 'application/json'}\n",
    "    resp2 = requests.get(url=url2, headers=headers2)\n",
    "    return StringIO(resp2.text)\n",
    "\n"
   ]
  },
  {
   "cell_type": "code",
   "execution_count": null,
   "metadata": {
    "collapsed": false
   },
   "outputs": [],
   "source": [
    "\n",
    "df = pd.read_csv(get_object_storage_file_with_credentials_b6d2dc4304df42d5bf425b6ca8af67ff('BITCOINTRANSACTIONNETWORKANALYSIS', 'BTC_merged_all.csv'))\n",
    "print(df.tail())"
   ]
  },
  {
   "cell_type": "code",
   "execution_count": null,
   "metadata": {
    "collapsed": false
   },
   "outputs": [],
   "source": [
    "\n",
    "df['transaction_to_trade_ratio_D'] = np.where(df['estimated-transaction-volume-usd'] !=0,df['estimated-transaction-volume'] /df['estimated-transaction-volume-usd'],0)\n"
   ]
  },
  {
   "cell_type": "code",
   "execution_count": null,
   "metadata": {
    "collapsed": false
   },
   "outputs": [],
   "source": [
    "# small_df = df.head(5)\n",
    "# r_count = 0\n",
    "# for index,row in small_df.iterrows():\n",
    "#     print(row['market-price-all-time'])\n",
    "############################################################ \n",
    "###### uncomment only when making csv for prediction #######\n",
    "############################################################\n",
    "# df_pred = df.drop('estimated-transaction-volume-usd',1)\n",
    "\n",
    "# df_pred.to_csv(\"Df_for_Prediction.csv\")\n",
    "# put_file(credentials_1,'Df_for_Prediction.csv') ## after to_csv \n",
    "# list(df_pred)"
   ]
  },
  {
   "cell_type": "code",
   "execution_count": null,
   "metadata": {
    "collapsed": false,
    "scrolled": true
   },
   "outputs": [],
   "source": [
    "myarray = np.array(df['market-price'])\n",
    "d = np.diff(myarray)\n",
    "diff_price = np.insert(d,0,0)\n",
    "\n",
    "df['price_diff'] = diff_price.tolist()\n",
    "\n",
    "df['up_down_same'] = np.where(df['price_diff'] == 0 ,1,np.where(df['price_diff'] > 0, 1,np.where(df['price_diff'] < 0, -1,np.nan)))\n",
    "\n",
    "print(\"Y \",value counts)\n",
    "print(df['up_down_same'].value_counts())"
   ]
  },
  {
   "cell_type": "code",
   "execution_count": null,
   "metadata": {
    "collapsed": false
   },
   "outputs": [],
   "source": [
    "\n",
    "final = df.drop(['price_diff','estimated-transaction-volume-usd','market-price','time_stamp'], 1)\n",
    "print(\"Final CSV with Y \",len(list(final)))\n"
   ]
  },
  {
   "cell_type": "code",
   "execution_count": null,
   "metadata": {
    "collapsed": false
   },
   "outputs": [],
   "source": [
    "# final.to_csv(\"Df_for_Classification.csv\")\n",
    "# put_file(credentials_1,'Df_for_Classification.csv') ## after to_csv "
   ]
  },
  {
   "cell_type": "code",
   "execution_count": null,
   "metadata": {
    "collapsed": true
   },
   "outputs": [],
   "source": [
    "from sklearn.metrics import confusion_matrix\n",
    "from sklearn.metrics import roc_curve\n",
    "from sklearn.metrics import accuracy_score"
   ]
  },
  {
   "cell_type": "code",
   "execution_count": null,
   "metadata": {
    "collapsed": true
   },
   "outputs": [],
   "source": [
    "from sklearn.preprocessing import LabelEncoder\n",
    "def dummyEncode(df,y):\n",
    "    columnsToEncode = list(df.select_dtypes(include=['category','object']))\n",
    "    le = LabelEncoder()\n",
    "    count=0\n",
    "    for feature in columnsToEncode:\n",
    "        try:\n",
    "            if feature!=y:\n",
    "                df[feature] = le.fit_transform(df[feature])\n",
    "            else:\n",
    "                #print('Hello')\n",
    "                df[feature] = df[feature]\n",
    "        except Exception as e:\n",
    "            print(count,' Error encoding ',df[feature][count],' error: ',e)\n",
    "        count+=1     \n",
    "    return df  "
   ]
  },
  {
   "cell_type": "code",
   "execution_count": null,
   "metadata": {
    "collapsed": true
   },
   "outputs": [],
   "source": [
    "import matplotlib.pyplot as plt\n",
    "%matplotlib inline\n",
    "def calculate_roc_curve(Y_test, preds, pos_label):\n",
    "    \n",
    "    fpr, tpr, _ = roc_curve(Y_test, preds)\n",
    "    #Plot ROC curve\n",
    "    plt.figure()\n",
    "    plt.plot(fpr, tpr, label='ROC curve')\n",
    "    plt.plot([0, 1], [0, 1], 'k--')\n",
    "    plt.xlim([0.0, 1.0])\n",
    "    plt.ylim([0.0, 1.05])\n",
    "    plt.xlabel('1-Specificity')\n",
    "    plt.ylabel('Sensitivity')\n",
    "    plt.title('ROC curve')\n",
    "    plt.legend(loc=\"lower right\")\n",
    "    plt.show()\n"
   ]
  },
  {
   "cell_type": "code",
   "execution_count": 47,
   "metadata": {
    "collapsed": false
   },
   "outputs": [],
   "source": [
    "from sklearn.ensemble import RandomForestClassifier\n",
    "\n",
    "import datetime\n",
    "def random_forest(X_train,Y_train,X_test,Y_test):\n",
    "     #Random Forest\n",
    "#     print(\"Random Forest\")    \n",
    "    rf = RandomForestClassifier(n_estimators=150, random_state=45)\n",
    "    y_pred = rf.fit(X_train, Y_train).predict(X_test) ## check later!!\n",
    "    \n",
    "    #calculate ROC curve\n",
    "    preds = rf.predict_proba(X_test)[:,1]\n",
    "    calculate_roc_curve(Y_test, preds,2)\n",
    "\n",
    "    cm=confusion_matrix(Y_test, y_pred)\n",
    "    print(datetime.datetime.now())\n",
    "    print(\" Random Forest cm :: \") \n",
    "    print(cm)\n",
    "    print(\" Accuracy Score :: \")\n",
    "    print(accuracy_score(Y_test, y_pred))\n",
    "    \n",
    "#     return cm"
   ]
  },
  {
   "cell_type": "code",
   "execution_count": 52,
   "metadata": {
    "collapsed": false
   },
   "outputs": [],
   "source": [
    "from sklearn.neural_network import MLPClassifier\n",
    "from sklearn.preprocessing import StandardScaler \n",
    "def neural_network_classifier(X_train,Y_train,X_test,Y_test):\n",
    "    print(\"#neural network\")\n",
    "    scaler = StandardScaler()\n",
    "    # Fit only to the training data\n",
    "    scaler.fit(X_train)\n",
    "    X_train_nn = scaler.transform(X_train)\n",
    "    X_test_nn = scaler.transform(X_test)\n",
    "\n",
    "    neural_network_class=MLPClassifier(hidden_layer_sizes=(30,20,30))\n",
    "    neural_network_class.fit(X_train,Y_train)\n",
    "    predictions = neural_network_class.predict(X_test)\n",
    "    y_pred=predictions\n",
    "\n",
    "    #calculate ROC curve\n",
    "    preds = neural_network_class.predict_proba(X_test)[:,1]\n",
    "    calculate_roc_curve(Y_test, preds,2)\n",
    "\n",
    "    cm=confusion_matrix(Y_test, y_pred)\n",
    "    print(datetime.datetime.now())\n",
    "    print(\" Neural Network cm :: \") \n",
    "    print(cm)\n",
    "    print(\" Accuracy Score :: \")\n",
    "    print(accuracy_score(Y_test, y_pred))\n",
    "  "
   ]
  },
  {
   "cell_type": "code",
   "execution_count": null,
   "metadata": {
    "collapsed": false,
    "scrolled": true
   },
   "outputs": [],
   "source": [
    "#import math\n",
    "from sklearn.model_selection import train_test_split\n",
    "# train_size = math.floor(70/100 * len(final))\n",
    "# test_size = len(final) - train_size\n",
    "\n",
    "y = \"up_down_same\"\n",
    "X_Enc_y = dummyEncode(final,y)\n",
    "Y_Enc = X_Enc_y[y]\n",
    "X_Enc = X_Enc_y.drop(y,1)\n",
    " \n",
    "\n",
    "#random split method for creating the training and test splits\n",
    "X_train, X_test, Y_train, Y_test = train_test_split(X_Enc,Y_Enc, test_size=0.3)\n"
   ]
  },
  {
   "cell_type": "code",
   "execution_count": null,
   "metadata": {
    "collapsed": false
   },
   "outputs": [],
   "source": [
    "\n",
    "#output of feature selection\n",
    "rfe_delete =['median-confirmation-time',\n",
    "             'transaction_to_trade_ratio_D',\n",
    "             'cost-per-transaction',\n",
    "             'n-orphaned-blocks',\n",
    "             'avg-block-size']\n",
    "\n",
    "sel_perc_cols_by_rank = ['total-bitcoins', 'cost-per-transaction', 'median-confirmation-time',\n",
    "                         'miners-revenue', 'n-orphaned-blocks', 'estimated-transaction-volume', \n",
    "                         'n-unique-addresses', 'transaction_to_trade_ratio_D', \n",
    "                         'n-transactions-per-block', 'avg-block-size', 'n-transactions',\n",
    "                         'market-cap', 'difficulty', 'hash-rate', 'transaction-fees']\n",
    "\n",
    "\n",
    "pearson_low_to_high_neg =[ \n",
    "    'transaction-fees',\n",
    "#     'hash-rate',\n",
    "#     'difficulty',\n",
    "#     'transaction_to_trade_ratio_D',\n",
    "#     'n-transactions',\n",
    "#     'market-cap',\n",
    "#     'n-transactions-per-block',\n",
    "#     'avg-block-size',\n",
    "#     'estimated-transaction-volume',\n",
    "#     'n-unique-addresses',\n",
    "#     'n-orphaned-blocks',\n",
    "#     'miners-revenue',\n",
    "#     'median-confirmation-time',\n",
    "#     'cost-per-transaction',\n",
    "#     'total-bitcoins'\n",
    "]\n",
    "\n",
    "low_to_high_sel_perc = list(reversed(sel_perc_cols_by_rank))\n",
    "# low_to_high_sel_perc"
   ]
  },
  {
   "cell_type": "code",
   "execution_count": 44,
   "metadata": {
    "collapsed": true
   },
   "outputs": [],
   "source": [
    "#### Decide what to keep/drop\n",
    "X_train_sp = X_train.drop(pearson_low_to_high_neg,1)\n",
    "X_test_sp = X_test.drop(pearson_low_to_high_neg,1)"
   ]
  },
  {
   "cell_type": "code",
   "execution_count": null,
   "metadata": {
    "collapsed": false
   },
   "outputs": [],
   "source": [
    "\n",
    "### Used to check combinations of features\n",
    "# import random\n",
    "# for i in range(0,3):\n",
    "    \n",
    "# random.shuffle(dropping)\n",
    "# cols = []\n",
    "# for feature in low_to_high_sel_perc: \n",
    "#     cols.append(feature)\n",
    "#     if(len(cols) != len(low_to_high_sel_perc)):\n",
    "#         print (\"dropping \",cols)\n",
    "#         X_train_f = X_train.drop(cols,1)\n",
    "#         X_test_f = X_test.drop(cols,1)\n",
    "\n",
    "#         random_forest(X_train_f,Y_train,X_test_f,Y_test)"
   ]
  },
  {
   "cell_type": "code",
   "execution_count": 48,
   "metadata": {
    "collapsed": false,
    "scrolled": true
   },
   "outputs": [
    {
     "data": {
      "image/png": "[encoded data removed]",
      "text/plain": [
       "<matplotlib.figure.Figure at 0x7f5333f0ed30>"
      ]
     },
     "metadata": {},
     "output_type": "display_data"
    },
    {
     "name": "stdout",
     "output_type": "stream",
     "text": [
      "2017-04-28 22:04:41.248723\n",
      " Random Forest cm :: \n",
      "[[ 98  88]\n",
      " [ 71 199]]\n",
      " Accuracy Score :: \n",
      "0.651315789474\n"
     ]
    }
   ],
   "source": [
    "## random forest\n",
    "X_train_final =X_train_sp\n",
    "X_test_final =X_test_sp\n",
    "random_forest(X_train_final,Y_train,X_test_final,Y_test)\n",
    "# list(X_train_final)"
   ]
  },
  {
   "cell_type": "code",
   "execution_count": 53,
   "metadata": {
    "collapsed": false
   },
   "outputs": [
    {
     "name": "stdout",
     "output_type": "stream",
     "text": [
      "#neural network\n"
     ]
    },
    {
     "data": {
      "image/png": "[encoded data removed]",
      "text/plain": [
       "<matplotlib.figure.Figure at 0x7f5333c314a8>"
      ]
     },
     "metadata": {},
     "output_type": "display_data"
    },
    {
     "name": "stdout",
     "output_type": "stream",
     "text": [
      "2017-04-28 22:05:41.484058\n",
      " Neural Network cm :: \n",
      "[[ 54 132]\n",
      " [ 49 221]]\n",
      " Accuracy Score :: \n",
      "0.603070175439\n"
     ]
    }
   ],
   "source": [
    "## neural_network\n",
    "X_train_final =X_train_sp\n",
    "X_test_final =X_test_sp\n",
    "neural_network_classifier(X_train_final,Y_train,X_test_final,Y_test)\n",
    "# list(X_train_final)"
   ]
  }
 ],
 "metadata": {
  "kernelspec": {
   "display_name": "Python 3.5 (Experimental) with Spark 2.0",
   "language": "python",
   "name": "python3-spark20"
  },
  "language_info": {
   "codemirror_mode": {
    "name": "ipython",
    "version": 3
   },
   "file_extension": ".py",
   "mimetype": "text/x-python",
   "name": "python",
   "nbconvert_exporter": "python",
   "pygments_lexer": "ipython3",
   "version": "3.5.2"
  }
 },
 "nbformat": 4,
 "nbformat_minor": 0
}